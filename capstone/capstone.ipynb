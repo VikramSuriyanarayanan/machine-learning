{
 "cells": [
  {
   "cell_type": "markdown",
   "metadata": {
    "collapsed": true
   },
   "source": [
    "## Capstone Project - Winonsin Breast Cancer Diagnosis Deep Learning Revisited\n",
    "\n",
    "\n",
    "\n",
    "\n"
   ]
  },
  {
   "cell_type": "markdown",
   "metadata": {},
   "source": [
    "#### Import necessary libraries"
   ]
  },
  {
   "cell_type": "code",
   "execution_count": 39,
   "metadata": {
    "collapsed": true
   },
   "outputs": [],
   "source": [
    "# Import libraries necessary for this project\n",
    "import numpy as np\n",
    "import pandas as pd\n",
    "from sklearn.model_selection import ShuffleSplit\n",
    "\n",
    "# Import sklearn.preprocessing.StandardScaler\n",
    "from sklearn.preprocessing import MinMaxScaler\n",
    "\n",
    "# Pretty display for notebooks\n",
    "%matplotlib inline"
   ]
  },
  {
   "cell_type": "markdown",
   "metadata": {},
   "source": [
    "#### Load in WBCD dataset"
   ]
  },
  {
   "cell_type": "code",
   "execution_count": 40,
   "metadata": {
    "collapsed": true
   },
   "outputs": [],
   "source": [
    "# Load the Boston housing dataset\n",
    "headers = [\"ID\",\"CT\",\"UCSize\",\"UCShape\",\"MA\",\"SECSize\",\"BN\",\"BC\",\"NN\",\"Mitoses\",\"Diagnosis\"]\n",
    "data = pd.read_csv('breast-cancer-wisconsin.csv', names = headers)\n",
    "data = data.reset_index(drop=True)"
   ]
  },
  {
   "cell_type": "markdown",
   "metadata": {},
   "source": [
    "#### Handle missing data"
   ]
  },
  {
   "cell_type": "code",
   "execution_count": 41,
   "metadata": {
    "collapsed": true
   },
   "outputs": [],
   "source": [
    "data = data.replace('?', np.nan)\n",
    "data = data.fillna(0)"
   ]
  },
  {
   "cell_type": "markdown",
   "metadata": {},
   "source": [
    "#### Define a data generation function with random noise"
   ]
  },
  {
   "cell_type": "code",
   "execution_count": 42,
   "metadata": {
    "collapsed": true
   },
   "outputs": [],
   "source": [
    "def generateData(data):\n",
    "    # make a copy of data\n",
    "    data2 = data\n",
    "\n",
    "    diagnosis2 = data2['Diagnosis']\n",
    "    features2 = data2.drop(['ID','Diagnosis'], axis = 1)\n",
    "    features2_headers = [\"CT\",\"UCSize\",\"UCShape\",\"MA\",\"SECSize\",\"BN\",\"BC\",\"NN\",\"Mitoses\"]\n",
    "\n",
    "    mu, sigma = 0, 0.1 \n",
    "    # creating a noise with the same dimension as the dataset \n",
    "    noise = np.random.normal(mu, sigma, features2.shape) \n",
    "\n",
    "    features2 = features2.apply(pd.to_numeric, errors='ignore')\n",
    "\n",
    "    features2_with_noise = features2.add(pd.DataFrame(noise, columns = features2_headers), fill_value=0)\n",
    "\n",
    "    data2 = pd.concat([features2_with_noise, pd.DataFrame(diagnosis2)], axis = 1)\n",
    "    \n",
    "    return data2"
   ]
  },
  {
   "cell_type": "markdown",
   "metadata": {},
   "source": [
    "#### Add the new generated dataset into the existing dataset"
   ]
  },
  {
   "cell_type": "code",
   "execution_count": 43,
   "metadata": {},
   "outputs": [
    {
     "name": "stdout",
     "output_type": "stream",
     "text": [
      "('data size = ', 30756)\n"
     ]
    }
   ],
   "source": [
    "new_data = generateData(data)\n",
    "data = data.append(new_data, ignore_index=True)\n",
    "\n",
    "new_data = generateData(data)\n",
    "data = data.append(new_data, ignore_index=True)\n",
    "\n",
    "print(\"data size = \", data.size)"
   ]
  },
  {
   "cell_type": "markdown",
   "metadata": {},
   "source": [
    "#### Scale dataset to the range of [0, 1]"
   ]
  },
  {
   "cell_type": "code",
   "execution_count": 44,
   "metadata": {
    "collapsed": true
   },
   "outputs": [],
   "source": [
    "# Initialize a scaler, then apply it to the features\n",
    "scaler = MinMaxScaler()\n",
    "numerical = [\"Diagnosis\",\"CT\",\"UCSize\",\"UCShape\",\"MA\",\"SECSize\",\"BN\",\"BC\",\"NN\",\"Mitoses\"]\n",
    "data[numerical] = scaler.fit_transform(data[numerical])"
   ]
  },
  {
   "cell_type": "markdown",
   "metadata": {},
   "source": [
    "#### Separate Labels/Classes from Features"
   ]
  },
  {
   "cell_type": "code",
   "execution_count": 45,
   "metadata": {
    "collapsed": true
   },
   "outputs": [],
   "source": [
    "diagnosis = data['Diagnosis']\n",
    "features = data.drop(['ID','Diagnosis'], axis = 1)"
   ]
  },
  {
   "cell_type": "markdown",
   "metadata": {},
   "source": [
    "#### Split dataset into training and testing datasets"
   ]
  },
  {
   "cell_type": "code",
   "execution_count": 46,
   "metadata": {
    "collapsed": true
   },
   "outputs": [],
   "source": [
    "from sklearn.model_selection import train_test_split\n",
    "\n",
    "# Shuffle and split the data into training and testing subsets\n",
    "X_train, X_test, y_train, y_test = train_test_split(features, diagnosis, test_size=0.25, random_state=42)"
   ]
  },
  {
   "cell_type": "markdown",
   "metadata": {},
   "source": [
    "#### Reindex "
   ]
  },
  {
   "cell_type": "code",
   "execution_count": 47,
   "metadata": {
    "collapsed": true
   },
   "outputs": [],
   "source": [
    "X_train = X_train.reset_index(drop=True)\n",
    "X_test = X_test.reset_index(drop=True)\n",
    "y_train = y_train.reset_index(drop=True)\n",
    "y_test = y_test.reset_index(drop=True)"
   ]
  },
  {
   "cell_type": "markdown",
   "metadata": {},
   "source": [
    "#### Convert Pandas DataFrame to Numpy ndarray"
   ]
  },
  {
   "cell_type": "code",
   "execution_count": 48,
   "metadata": {
    "collapsed": true
   },
   "outputs": [],
   "source": [
    "X_train = X_train.values\n",
    "y_train = y_train.values\n",
    "X_test  = X_test.values\n",
    "y_test  = y_test.values"
   ]
  },
  {
   "cell_type": "markdown",
   "metadata": {},
   "source": [
    "#### Classify dataset using Random Forest Classifier"
   ]
  },
  {
   "cell_type": "code",
   "execution_count": 49,
   "metadata": {},
   "outputs": [
    {
     "name": "stdout",
     "output_type": "stream",
     "text": [
      "('score = ', 0.96995708154506433)\n"
     ]
    }
   ],
   "source": [
    "from sklearn.ensemble import RandomForestClassifier\n",
    "\n",
    "rfc = RandomForestClassifier(max_depth=2, random_state=0)\n",
    "rfc.fit(X_train, y_train)\n",
    "# y_predict = rfc.predict(X_test)\n",
    "\n",
    "score = rfc.score(X_test, y_test)\n",
    "print(\"score = \", score)"
   ]
  },
  {
   "cell_type": "markdown",
   "metadata": {},
   "source": [
    "#### Deep learning"
   ]
  },
  {
   "cell_type": "code",
   "execution_count": 50,
   "metadata": {},
   "outputs": [],
   "source": [
    "from keras.layers import Dense\n",
    "from keras.layers import Dropout\n",
    "from keras.models import Sequential\n",
    "import keras\n",
    "import keras.utils\n",
    "from keras import utils as np_utils"
   ]
  },
  {
   "cell_type": "markdown",
   "metadata": {},
   "source": [
    "#### Define NN Architecture"
   ]
  },
  {
   "cell_type": "code",
   "execution_count": 51,
   "metadata": {},
   "outputs": [
    {
     "name": "stdout",
     "output_type": "stream",
     "text": [
      "_________________________________________________________________\n",
      "Layer (type)                 Output Shape              Param #   \n",
      "=================================================================\n",
      "dense_9 (Dense)              (None, 9)                 90        \n",
      "_________________________________________________________________\n",
      "dropout_5 (Dropout)          (None, 9)                 0         \n",
      "_________________________________________________________________\n",
      "dense_10 (Dense)             (None, 5)                 50        \n",
      "_________________________________________________________________\n",
      "dropout_6 (Dropout)          (None, 5)                 0         \n",
      "_________________________________________________________________\n",
      "dense_11 (Dense)             (None, 1)                 6         \n",
      "_________________________________________________________________\n",
      "dense_12 (Dense)             (None, 1)                 2         \n",
      "=================================================================\n",
      "Total params: 148\n",
      "Trainable params: 148\n",
      "Non-trainable params: 0\n",
      "_________________________________________________________________\n"
     ]
    }
   ],
   "source": [
    "model = Sequential()\n",
    "\n",
    "#Define your architecture.\n",
    "model.add(Dense(9, activation='relu', input_dim=9))\n",
    "model.add(Dropout(0.5))\n",
    "model.add(Dense(5, activation='relu', input_shape=(9,)))\n",
    "model.add(Dropout(0.5))\n",
    "model.add(Dense(1, activation='relu', input_shape=(5,)))\n",
    "model.add(Dense(1, activation='sigmoid'))\n",
    "\n",
    "model.summary()"
   ]
  },
  {
   "cell_type": "markdown",
   "metadata": {},
   "source": [
    "#### Compile NN Model"
   ]
  },
  {
   "cell_type": "code",
   "execution_count": 52,
   "metadata": {
    "collapsed": true
   },
   "outputs": [],
   "source": [
    "model.compile(loss='binary_crossentropy',\n",
    "              optimizer='rmsprop',\n",
    "              metrics=['accuracy'])"
   ]
  },
  {
   "cell_type": "markdown",
   "metadata": {},
   "source": [
    "#### Train NN Model"
   ]
  },
  {
   "cell_type": "code",
   "execution_count": 53,
   "metadata": {},
   "outputs": [
    {
     "name": "stdout",
     "output_type": "stream",
     "text": [
      "Epoch 1/100\n",
      "2097/2097 [==============================] - 0s - loss: 0.6489 - acc: 0.6872     \n",
      "Epoch 2/100\n",
      "2097/2097 [==============================] - 0s - loss: 0.6130 - acc: 0.7601     \n",
      "Epoch 3/100\n",
      "2097/2097 [==============================] - 0s - loss: 0.5707 - acc: 0.7907     \n",
      "Epoch 4/100\n",
      "2097/2097 [==============================] - 0s - loss: 0.5390 - acc: 0.7997     \n",
      "Epoch 5/100\n",
      "2097/2097 [==============================] - 0s - loss: 0.5155 - acc: 0.8240     \n",
      "Epoch 6/100\n",
      "2097/2097 [==============================] - 0s - loss: 0.4932 - acc: 0.8336     \n",
      "Epoch 7/100\n",
      "2097/2097 [==============================] - 0s - loss: 0.4771 - acc: 0.8336     \n",
      "Epoch 8/100\n",
      "2097/2097 [==============================] - 0s - loss: 0.4425 - acc: 0.8588     \n",
      "Epoch 9/100\n",
      "2097/2097 [==============================] - 0s - loss: 0.4386 - acc: 0.8498     \n",
      "Epoch 10/100\n",
      "2097/2097 [==============================] - 0s - loss: 0.4440 - acc: 0.8379     \n",
      "Epoch 11/100\n",
      "2097/2097 [==============================] - 0s - loss: 0.4392 - acc: 0.8422     \n",
      "Epoch 12/100\n",
      "2097/2097 [==============================] - 0s - loss: 0.4088 - acc: 0.8603     \n",
      "Epoch 13/100\n",
      "2097/2097 [==============================] - 0s - loss: 0.3995 - acc: 0.8498     \n",
      "Epoch 14/100\n",
      "2097/2097 [==============================] - 0s - loss: 0.3908 - acc: 0.8555     \n",
      "Epoch 15/100\n",
      "2097/2097 [==============================] - 0s - loss: 0.3915 - acc: 0.8641     \n",
      "Epoch 16/100\n",
      "2097/2097 [==============================] - 0s - loss: 0.3769 - acc: 0.8760     \n",
      "Epoch 17/100\n",
      "2097/2097 [==============================] - 0s - loss: 0.3710 - acc: 0.8798     \n",
      "Epoch 18/100\n",
      "2097/2097 [==============================] - 0s - loss: 0.3745 - acc: 0.8727     \n",
      "Epoch 19/100\n",
      "2097/2097 [==============================] - 0s - loss: 0.3590 - acc: 0.8827     \n",
      "Epoch 20/100\n",
      "2097/2097 [==============================] - 0s - loss: 0.3388 - acc: 0.8960     \n",
      "Epoch 21/100\n",
      "2097/2097 [==============================] - 0s - loss: 0.3510 - acc: 0.8851     \n",
      "Epoch 22/100\n",
      "2097/2097 [==============================] - 0s - loss: 0.3467 - acc: 0.8903     \n",
      "Epoch 23/100\n",
      "2097/2097 [==============================] - 0s - loss: 0.3446 - acc: 0.8875     \n",
      "Epoch 24/100\n",
      "2097/2097 [==============================] - 0s - loss: 0.3160 - acc: 0.9003     \n",
      "Epoch 25/100\n",
      "2097/2097 [==============================] - 0s - loss: 0.3112 - acc: 0.8979     \n",
      "Epoch 26/100\n",
      "2097/2097 [==============================] - 0s - loss: 0.3396 - acc: 0.8898     \n",
      "Epoch 27/100\n",
      "2097/2097 [==============================] - 0s - loss: 0.3298 - acc: 0.9003     \n",
      "Epoch 28/100\n",
      "2097/2097 [==============================] - 0s - loss: 0.3322 - acc: 0.8984     \n",
      "Epoch 29/100\n",
      "2097/2097 [==============================] - 0s - loss: 0.3365 - acc: 0.8932     \n",
      "Epoch 30/100\n",
      "2097/2097 [==============================] - 0s - loss: 0.2801 - acc: 0.9103     \n",
      "Epoch 31/100\n",
      "2097/2097 [==============================] - 0s - loss: 0.3079 - acc: 0.8989     \n",
      "Epoch 32/100\n",
      "2097/2097 [==============================] - 0s - loss: 0.3236 - acc: 0.9008     \n",
      "Epoch 33/100\n",
      "2097/2097 [==============================] - 0s - loss: 0.3306 - acc: 0.8918     \n",
      "Epoch 34/100\n",
      "2097/2097 [==============================] - 0s - loss: 0.3068 - acc: 0.9003     \n",
      "Epoch 35/100\n",
      "2097/2097 [==============================] - 0s - loss: 0.3355 - acc: 0.8941     \n",
      "Epoch 36/100\n",
      "2097/2097 [==============================] - 0s - loss: 0.3026 - acc: 0.9051     \n",
      "Epoch 37/100\n",
      "2097/2097 [==============================] - 0s - loss: 0.2984 - acc: 0.9075     \n",
      "Epoch 38/100\n",
      "2097/2097 [==============================] - 0s - loss: 0.3017 - acc: 0.9056     \n",
      "Epoch 39/100\n",
      "2097/2097 [==============================] - 0s - loss: 0.2901 - acc: 0.9127     \n",
      "Epoch 40/100\n",
      "2097/2097 [==============================] - 0s - loss: 0.2898 - acc: 0.9065     \n",
      "Epoch 41/100\n",
      "2097/2097 [==============================] - 0s - loss: 0.2849 - acc: 0.9103     \n",
      "Epoch 42/100\n",
      "2097/2097 [==============================] - 0s - loss: 0.2911 - acc: 0.9080     \n",
      "Epoch 43/100\n",
      "2097/2097 [==============================] - 0s - loss: 0.2716 - acc: 0.9194     \n",
      "Epoch 44/100\n",
      "2097/2097 [==============================] - 0s - loss: 0.2691 - acc: 0.9185     \n",
      "Epoch 45/100\n",
      "2097/2097 [==============================] - 0s - loss: 0.2800 - acc: 0.9127     \n",
      "Epoch 46/100\n",
      "2097/2097 [==============================] - 0s - loss: 0.2838 - acc: 0.9099     \n",
      "Epoch 47/100\n",
      "2097/2097 [==============================] - 0s - loss: 0.2644 - acc: 0.9204     \n",
      "Epoch 48/100\n",
      "2097/2097 [==============================] - 0s - loss: 0.2912 - acc: 0.9108     \n",
      "Epoch 49/100\n",
      "2097/2097 [==============================] - 0s - loss: 0.2639 - acc: 0.9185     \n",
      "Epoch 50/100\n",
      "2097/2097 [==============================] - 0s - loss: 0.2599 - acc: 0.9261     \n",
      "Epoch 51/100\n",
      "2097/2097 [==============================] - 0s - loss: 0.2560 - acc: 0.9189     \n",
      "Epoch 52/100\n",
      "2097/2097 [==============================] - 0s - loss: 0.2523 - acc: 0.9247     \n",
      "Epoch 53/100\n",
      "2097/2097 [==============================] - 0s - loss: 0.2426 - acc: 0.9180     \n",
      "Epoch 54/100\n",
      "2097/2097 [==============================] - 0s - loss: 0.2547 - acc: 0.9156     \n",
      "Epoch 55/100\n",
      "2097/2097 [==============================] - 0s - loss: 0.2694 - acc: 0.9185     \n",
      "Epoch 56/100\n",
      "2097/2097 [==============================] - 0s - loss: 0.2375 - acc: 0.9299     \n",
      "Epoch 57/100\n",
      "2097/2097 [==============================] - 0s - loss: 0.2497 - acc: 0.9170     \n",
      "Epoch 58/100\n",
      "2097/2097 [==============================] - 0s - loss: 0.2516 - acc: 0.9165     \n",
      "Epoch 59/100\n",
      "2097/2097 [==============================] - 0s - loss: 0.2568 - acc: 0.9204     \n",
      "Epoch 60/100\n",
      "2097/2097 [==============================] - 0s - loss: 0.2500 - acc: 0.9189     \n",
      "Epoch 61/100\n",
      "2097/2097 [==============================] - 0s - loss: 0.2716 - acc: 0.9218     \n",
      "Epoch 62/100\n",
      "2097/2097 [==============================] - 0s - loss: 0.2415 - acc: 0.9270     \n",
      "Epoch 63/100\n",
      "2097/2097 [==============================] - 0s - loss: 0.2478 - acc: 0.9161     \n",
      "Epoch 64/100\n",
      "2097/2097 [==============================] - 0s - loss: 0.2266 - acc: 0.9347     \n",
      "Epoch 65/100\n",
      "2097/2097 [==============================] - 0s - loss: 0.2428 - acc: 0.9223     \n",
      "Epoch 66/100\n",
      "2097/2097 [==============================] - 0s - loss: 0.2577 - acc: 0.9223     \n",
      "Epoch 67/100\n",
      "2097/2097 [==============================] - 0s - loss: 0.2476 - acc: 0.9299     \n",
      "Epoch 68/100\n",
      "2097/2097 [==============================] - 0s - loss: 0.2473 - acc: 0.9242     \n",
      "Epoch 69/100\n",
      "2097/2097 [==============================] - 0s - loss: 0.2644 - acc: 0.9261     \n",
      "Epoch 70/100\n",
      "2097/2097 [==============================] - 0s - loss: 0.2288 - acc: 0.9285     \n",
      "Epoch 71/100\n",
      "2097/2097 [==============================] - 0s - loss: 0.2623 - acc: 0.9275     \n",
      "Epoch 72/100\n",
      "2097/2097 [==============================] - 0s - loss: 0.2437 - acc: 0.9242     \n",
      "Epoch 73/100\n",
      "2097/2097 [==============================] - 0s - loss: 0.2635 - acc: 0.9280     \n",
      "Epoch 74/100\n",
      "2097/2097 [==============================] - 0s - loss: 0.2595 - acc: 0.9256     \n",
      "Epoch 75/100\n",
      "2097/2097 [==============================] - 0s - loss: 0.2137 - acc: 0.9347     \n",
      "Epoch 76/100\n",
      "2097/2097 [==============================] - 0s - loss: 0.2403 - acc: 0.9204     \n",
      "Epoch 77/100\n",
      "2097/2097 [==============================] - 0s - loss: 0.2338 - acc: 0.9332     \n",
      "Epoch 78/100\n",
      "2097/2097 [==============================] - 0s - loss: 0.2627 - acc: 0.9223     \n",
      "Epoch 79/100\n",
      "2097/2097 [==============================] - 0s - loss: 0.2474 - acc: 0.9237     \n",
      "Epoch 80/100\n",
      "2097/2097 [==============================] - 0s - loss: 0.2292 - acc: 0.9251     \n",
      "Epoch 81/100\n",
      "2097/2097 [==============================] - 0s - loss: 0.2249 - acc: 0.9323     \n",
      "Epoch 82/100\n",
      "2097/2097 [==============================] - 0s - loss: 0.2277 - acc: 0.9266     - ETA: 0s - loss: 0.1825 - acc: \n",
      "Epoch 83/100\n",
      "2097/2097 [==============================] - 0s - loss: 0.2371 - acc: 0.9347     \n",
      "Epoch 84/100\n",
      "2097/2097 [==============================] - 0s - loss: 0.2536 - acc: 0.9256     \n",
      "Epoch 85/100\n",
      "2097/2097 [==============================] - 0s - loss: 0.2412 - acc: 0.9242     \n",
      "Epoch 86/100\n",
      "2097/2097 [==============================] - 0s - loss: 0.2365 - acc: 0.9289     \n",
      "Epoch 87/100\n"
     ]
    },
    {
     "name": "stdout",
     "output_type": "stream",
     "text": [
      "2097/2097 [==============================] - 0s - loss: 0.2380 - acc: 0.9270     \n",
      "Epoch 88/100\n",
      "2097/2097 [==============================] - 0s - loss: 0.2237 - acc: 0.9313     \n",
      "Epoch 89/100\n",
      "2097/2097 [==============================] - 0s - loss: 0.2196 - acc: 0.9380     \n",
      "Epoch 90/100\n",
      "2097/2097 [==============================] - 0s - loss: 0.2324 - acc: 0.9304     \n",
      "Epoch 91/100\n",
      "2097/2097 [==============================] - 0s - loss: 0.2298 - acc: 0.9266     \n",
      "Epoch 92/100\n",
      "2097/2097 [==============================] - 0s - loss: 0.2286 - acc: 0.9285     \n",
      "Epoch 93/100\n",
      "2097/2097 [==============================] - 0s - loss: 0.2382 - acc: 0.9299     \n",
      "Epoch 94/100\n",
      "2097/2097 [==============================] - 0s - loss: 0.2441 - acc: 0.9242     \n",
      "Epoch 95/100\n",
      "2097/2097 [==============================] - 0s - loss: 0.2294 - acc: 0.9309     \n",
      "Epoch 96/100\n",
      "2097/2097 [==============================] - 0s - loss: 0.2280 - acc: 0.9242     \n",
      "Epoch 97/100\n",
      "2097/2097 [==============================] - 0s - loss: 0.2396 - acc: 0.9342     \n",
      "Epoch 98/100\n",
      "2097/2097 [==============================] - 0s - loss: 0.2287 - acc: 0.9266     \n",
      "Epoch 99/100\n",
      "2097/2097 [==============================] - 0s - loss: 0.2323 - acc: 0.9356     \n",
      "Epoch 100/100\n",
      "2097/2097 [==============================] - 0s - loss: 0.2247 - acc: 0.9261     \n"
     ]
    },
    {
     "data": {
      "text/plain": [
       "<keras.callbacks.History at 0x11e648bd0>"
      ]
     },
     "execution_count": 53,
     "metadata": {},
     "output_type": "execute_result"
    }
   ],
   "source": [
    "model.fit(X_train, y_train, epochs=100, batch_size=15) # tried epochs = 20, batch_size = 10"
   ]
  },
  {
   "cell_type": "markdown",
   "metadata": {},
   "source": [
    "#### Test NN Model"
   ]
  },
  {
   "cell_type": "code",
   "execution_count": 54,
   "metadata": {},
   "outputs": [
    {
     "name": "stdout",
     "output_type": "stream",
     "text": [
      " 10/699 [..............................] - ETA: 2s('score = ', [0.12331208833713132, 0.97854076826862346])\n"
     ]
    }
   ],
   "source": [
    "score = model.evaluate(X_test, y_test, batch_size=10)\n",
    "print(\"score = \", score)"
   ]
  }
 ],
 "metadata": {
  "kernelspec": {
   "display_name": "Python 2",
   "language": "python",
   "name": "python2"
  },
  "language_info": {
   "codemirror_mode": {
    "name": "ipython",
    "version": 2
   },
   "file_extension": ".py",
   "mimetype": "text/x-python",
   "name": "python",
   "nbconvert_exporter": "python",
   "pygments_lexer": "ipython2",
   "version": "2.7.13"
  }
 },
 "nbformat": 4,
 "nbformat_minor": 2
}
