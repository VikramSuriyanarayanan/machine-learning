{
 "cells": [
  {
   "cell_type": "code",
   "execution_count": null,
   "metadata": {
    "collapsed": true
   },
   "outputs": [],
   "source": []
  },
  {
   "cell_type": "code",
   "execution_count": 1,
   "metadata": {},
   "outputs": [
    {
     "name": "stdout",
     "output_type": "stream",
     "text": [
      "        ID  CT  UCSize  UCShape  MA  SECSize  BN  BC  NN  Mitoses  Diagnosis\n",
      "0  1000025   5       1        1   1        2   1   3   1        1          2\n",
      "1  1002945   5       4        4   5        7  10   3   2        1          2\n",
      "2  1015425   3       1        1   1        2   2   3   1        1          2\n",
      "3  1016277   6       8        8   1        3   4   3   7        1          2\n",
      "4  1017023   4       1        1   3        2   1   3   1        1          2\n",
      "5  1017122   8      10       10   8        7  10   9   7        1          4\n",
      "6  1018099   1       1        1   1        2  10   3   1        1          2\n",
      "7  1018561   2       1        2   1        2   1   3   1        1          2\n",
      "8  1033078   2       1        1   1        2   1   1   1        5          2\n",
      "9  1033078   4       2        1   1        2   1   2   1        1          2\n",
      "   CT  UCSize  UCShape  MA  SECSize  BN  BC  NN  Mitoses\n",
      "0   5       1        1   1        2   1   3   1        1\n",
      "1   5       4        4   5        7  10   3   2        1\n",
      "2   3       1        1   1        2   2   3   1        1\n",
      "3   6       8        8   1        3   4   3   7        1\n",
      "4   4       1        1   3        2   1   3   1        1\n",
      "5   8      10       10   8        7  10   9   7        1\n",
      "6   1       1        1   1        2  10   3   1        1\n",
      "7   2       1        2   1        2   1   3   1        1\n",
      "8   2       1        1   1        2   1   1   1        5\n",
      "9   4       2        1   1        2   1   2   1        1\n"
     ]
    }
   ],
   "source": [
    "# Import libraries necessary for this project\n",
    "import numpy as np\n",
    "import pandas as pd\n",
    "# from sklearn.cross_validation import ShuffleSplit\n",
    "from sklearn.model_selection import ShuffleSplit\n",
    "\n",
    "# Import supplementary visualizations code visuals.py\n",
    "# import visuals as vs\n",
    "\n",
    "# Pretty display for notebooks\n",
    "%matplotlib inline\n",
    "\n",
    "# Load the Boston housing dataset\n",
    "headers = [\"ID\",\"CT\",\"UCSize\",\"UCShape\",\"MA\",\"SECSize\",\"BN\",\"BC\",\"NN\",\"Mitoses\",\"Diagnosis\"]\n",
    "data = pd.read_csv('breast-cancer-wisconsin.csv', names = headers)\n",
    "print(data.head(n = 10))\n",
    "\n",
    "diagnosis = data['Diagnosis']\n",
    "features_raw = data.drop(['ID','Diagnosis'], axis = 1)\n",
    "print(features_raw.head(n = 10))"
   ]
  },
  {
   "cell_type": "code",
   "execution_count": 10,
   "metadata": {},
   "outputs": [
    {
     "name": "stdout",
     "output_type": "stream",
     "text": [
      "    CT  UCSize  UCShape  MA  SECSize  BN  BC  NN  Mitoses\n",
      "0    5       1        1   1        2   1   3   1        1\n",
      "1    5       4        4   5        7  10   3   2        1\n",
      "2    3       1        1   1        2   2   3   1        1\n",
      "3    6       8        8   1        3   4   3   7        1\n",
      "4    4       1        1   3        2   1   3   1        1\n",
      "5    8      10       10   8        7  10   9   7        1\n",
      "6    1       1        1   1        2  10   3   1        1\n",
      "7    2       1        2   1        2   1   3   1        1\n",
      "8    2       1        1   1        2   1   1   1        5\n",
      "9    4       2        1   1        2   1   2   1        1\n",
      "10   1       1        1   1        1   1   3   1        1\n",
      "11   2       1        1   1        2   1   2   1        1\n",
      "12   5       3        3   3        2   3   4   4        1\n",
      "13   1       1        1   1        2   3   3   1        1\n",
      "14   8       7        5  10        7   9   5   5        4\n",
      "15   7       4        6   4        6   1   4   3        1\n",
      "16   4       1        1   1        2   1   2   1        1\n",
      "17   4       1        1   1        2   1   3   1        1\n",
      "18  10       7        7   6        4  10   4   1        2\n",
      "19   6       1        1   1        2   1   3   1        1\n"
     ]
    }
   ],
   "source": [
    "features_with_missing_data = features_raw.replace('?', np.nan)\n",
    "#print(features_with_missing_data)\n",
    "features = features_with_missing_data.fillna(0)\n",
    "print(features.head(n = 20))"
   ]
  },
  {
   "cell_type": "code",
   "execution_count": 12,
   "metadata": {},
   "outputs": [
    {
     "name": "stdout",
     "output_type": "stream",
     "text": [
      "         CT    UCSize   UCShape        MA   SECSize   BN        BC        NN  \\\n",
      "0  0.444444  0.000000  0.000000  0.000000  0.111111  0.1  0.222222  0.000000   \n",
      "1  0.444444  0.333333  0.333333  0.444444  0.666667  1.0  0.222222  0.111111   \n",
      "2  0.222222  0.000000  0.000000  0.000000  0.111111  0.2  0.222222  0.000000   \n",
      "3  0.555556  0.777778  0.777778  0.000000  0.222222  0.4  0.222222  0.666667   \n",
      "4  0.333333  0.000000  0.000000  0.222222  0.111111  0.1  0.222222  0.000000   \n",
      "5  0.777778  1.000000  1.000000  0.777778  0.666667  1.0  0.888889  0.666667   \n",
      "6  0.000000  0.000000  0.000000  0.000000  0.111111  1.0  0.222222  0.000000   \n",
      "7  0.111111  0.000000  0.111111  0.000000  0.111111  0.1  0.222222  0.000000   \n",
      "8  0.111111  0.000000  0.000000  0.000000  0.111111  0.1  0.000000  0.000000   \n",
      "9  0.333333  0.111111  0.000000  0.000000  0.111111  0.1  0.111111  0.000000   \n",
      "\n",
      "    Mitoses  \n",
      "0  0.000000  \n",
      "1  0.000000  \n",
      "2  0.000000  \n",
      "3  0.000000  \n",
      "4  0.000000  \n",
      "5  0.000000  \n",
      "6  0.000000  \n",
      "7  0.000000  \n",
      "8  0.444444  \n",
      "9  0.000000  \n"
     ]
    }
   ],
   "source": [
    "# Import sklearn.preprocessing.StandardScaler\n",
    "from sklearn.preprocessing import MinMaxScaler\n",
    "\n",
    "# Initialize a scaler, then apply it to the features\n",
    "scaler = MinMaxScaler()\n",
    "numerical = [\"CT\",\"UCSize\",\"UCShape\",\"MA\",\"SECSize\",\"BN\",\"BC\",\"NN\",\"Mitoses\"]\n",
    "features[numerical] = scaler.fit_transform(features[numerical])\n",
    "\n",
    "# Show an example of a record with scaling applied\n",
    "print(features.head(n = 10))"
   ]
  },
  {
   "cell_type": "code",
   "execution_count": 13,
   "metadata": {
    "collapsed": true
   },
   "outputs": [],
   "source": [
    "from sklearn.model_selection import train_test_split\n",
    "\n",
    "# Shuffle and split the data into training and testing subsets\n",
    "X_train, X_test, y_train, y_test = train_test_split(features, diagnosis, test_size=0.25, random_state=42)"
   ]
  },
  {
   "cell_type": "code",
   "execution_count": 14,
   "metadata": {},
   "outputs": [
    {
     "name": "stdout",
     "output_type": "stream",
     "text": [
      "('score = ', 0.95999999999999996)\n"
     ]
    }
   ],
   "source": [
    "from sklearn.ensemble import RandomForestClassifier\n",
    "\n",
    "rfc = RandomForestClassifier(max_depth=2, random_state=0)\n",
    "rfc.fit(X_train, y_train)\n",
    "# y_predict = rfc.predict(X_test)\n",
    "\n",
    "score = rfc.score(X_test, y_test)\n",
    "print(\"score = \", score)"
   ]
  },
  {
   "cell_type": "code",
   "execution_count": null,
   "metadata": {
    "collapsed": true
   },
   "outputs": [],
   "source": []
  }
 ],
 "metadata": {
  "kernelspec": {
   "display_name": "Python 2",
   "language": "python",
   "name": "python2"
  },
  "language_info": {
   "codemirror_mode": {
    "name": "ipython",
    "version": 2
   },
   "file_extension": ".py",
   "mimetype": "text/x-python",
   "name": "python",
   "nbconvert_exporter": "python",
   "pygments_lexer": "ipython2",
   "version": "2.7.13"
  }
 },
 "nbformat": 4,
 "nbformat_minor": 2
}
