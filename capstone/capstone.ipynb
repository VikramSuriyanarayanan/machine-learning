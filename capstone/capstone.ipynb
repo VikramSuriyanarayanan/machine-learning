{
 "cells": [
  {
   "cell_type": "code",
   "execution_count": null,
   "metadata": {
    "collapsed": true
   },
   "outputs": [],
   "source": []
  },
  {
   "cell_type": "code",
   "execution_count": 3,
   "metadata": {},
   "outputs": [
    {
     "name": "stdout",
     "output_type": "stream",
     "text": [
      "     CT  UCSize  UCShape  MA  SECSize  BN  BC  NN  Mitoses\n",
      "0     5       1        1   1        2   1   3   1        1\n",
      "1     5       4        4   5        7  10   3   2        1\n",
      "2     3       1        1   1        2   2   3   1        1\n",
      "3     6       8        8   1        3   4   3   7        1\n",
      "4     4       1        1   3        2   1   3   1        1\n",
      "5     8      10       10   8        7  10   9   7        1\n",
      "6     1       1        1   1        2  10   3   1        1\n",
      "7     2       1        2   1        2   1   3   1        1\n",
      "8     2       1        1   1        2   1   1   1        5\n",
      "9     4       2        1   1        2   1   2   1        1\n",
      "10    1       1        1   1        1   1   3   1        1\n",
      "11    2       1        1   1        2   1   2   1        1\n",
      "12    5       3        3   3        2   3   4   4        1\n",
      "13    1       1        1   1        2   3   3   1        1\n",
      "14    8       7        5  10        7   9   5   5        4\n",
      "15    7       4        6   4        6   1   4   3        1\n",
      "16    4       1        1   1        2   1   2   1        1\n",
      "17    4       1        1   1        2   1   3   1        1\n",
      "18   10       7        7   6        4  10   4   1        2\n",
      "19    6       1        1   1        2   1   3   1        1\n",
      "20    7       3        2  10        5  10   5   4        4\n",
      "21   10       5        5   3        6   7   7  10        1\n",
      "22    3       1        1   1        2   1   2   1        1\n",
      "23    8       4        5   1        2   ?   7   3        1\n",
      "24    1       1        1   1        2   1   3   1        1\n",
      "25    5       2        3   4        2   7   3   6        1\n",
      "26    3       2        1   1        1   1   2   1        1\n",
      "27    5       1        1   1        2   1   2   1        1\n",
      "28    2       1        1   1        2   1   2   1        1\n",
      "29    1       1        3   1        2   1   1   1        1\n",
      "..   ..     ...      ...  ..      ...  ..  ..  ..      ...\n",
      "669   5      10       10   8        5   5   7  10        1\n",
      "670   3      10        7   8        5   8   7   4        1\n",
      "671   3       2        1   2        2   1   3   1        1\n",
      "672   2       1        1   1        2   1   3   1        1\n",
      "673   5       3        2   1        3   1   1   1        1\n",
      "674   1       1        1   1        2   1   2   1        1\n",
      "675   4       1        4   1        2   1   1   1        1\n",
      "676   1       1        2   1        2   1   2   1        1\n",
      "677   5       1        1   1        2   1   1   1        1\n",
      "678   1       1        1   1        2   1   1   1        1\n",
      "679   2       1        1   1        2   1   1   1        1\n",
      "680  10      10       10  10        5  10  10  10        7\n",
      "681   5      10       10  10        4  10   5   6        3\n",
      "682   5       1        1   1        2   1   3   2        1\n",
      "683   1       1        1   1        2   1   1   1        1\n",
      "684   1       1        1   1        2   1   1   1        1\n",
      "685   1       1        1   1        2   1   1   1        1\n",
      "686   1       1        1   1        2   1   1   1        1\n",
      "687   3       1        1   1        2   1   2   3        1\n",
      "688   4       1        1   1        2   1   1   1        1\n",
      "689   1       1        1   1        2   1   1   1        8\n",
      "690   1       1        1   3        2   1   1   1        1\n",
      "691   5      10       10   5        4   5   4   4        1\n",
      "692   3       1        1   1        2   1   1   1        1\n",
      "693   3       1        1   1        2   1   2   1        2\n",
      "694   3       1        1   1        3   2   1   1        1\n",
      "695   2       1        1   1        2   1   1   1        1\n",
      "696   5      10       10   3        7   3   8  10        2\n",
      "697   4       8        6   4        3   4  10   6        1\n",
      "698   4       8        8   5        4   5  10   4        1\n",
      "\n",
      "[699 rows x 9 columns]\n"
     ]
    }
   ],
   "source": [
    "# Import libraries necessary for this project\n",
    "import numpy as np\n",
    "import pandas as pd\n",
    "# from sklearn.cross_validation import ShuffleSplit\n",
    "from sklearn.model_selection import ShuffleSplit\n",
    "\n",
    "# Import supplementary visualizations code visuals.py\n",
    "# import visuals as vs\n",
    "\n",
    "# Pretty display for notebooks\n",
    "%matplotlib inline\n",
    "\n",
    "# Load the Boston housing dataset\n",
    "headers = [\"ID\",\"CT\",\"UCSize\",\"UCShape\",\"MA\",\"SECSize\",\"BN\",\"BC\",\"NN\",\"Mitoses\",\"Diagnosis\"]\n",
    "data = pd.read_csv('breast-cancer-wisconsin.csv', names = headers)\n",
    "data.head()\n",
    "\n",
    "diagnosis = data['Diagnosis']\n",
    "features = data.drop(['ID','Diagnosis'], axis = 1)\n",
    "print(features)"
   ]
  },
  {
   "cell_type": "code",
   "execution_count": null,
   "metadata": {
    "collapsed": true
   },
   "outputs": [],
   "source": [
    "from sklearn.model_selection import train_test_split\n",
    "\n",
    "# Shuffle and split the data into training and testing subsets\n",
    "X_train, X_test, y_train, y_test = train_test_split(features, prices, test_size=0.2, random_state=42)"
   ]
  },
  {
   "cell_type": "code",
   "execution_count": null,
   "metadata": {
    "collapsed": true
   },
   "outputs": [],
   "source": []
  }
 ],
 "metadata": {
  "kernelspec": {
   "display_name": "Python 2",
   "language": "python",
   "name": "python2"
  },
  "language_info": {
   "codemirror_mode": {
    "name": "ipython",
    "version": 2
   },
   "file_extension": ".py",
   "mimetype": "text/x-python",
   "name": "python",
   "nbconvert_exporter": "python",
   "pygments_lexer": "ipython2",
   "version": "2.7.13"
  }
 },
 "nbformat": 4,
 "nbformat_minor": 2
}
